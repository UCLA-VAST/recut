{
 "cells": [
  {
   "cell_type": "code",
   "execution_count": 13,
   "metadata": {},
   "outputs": [],
   "source": [
    "import pandas as pd\n",
    "import plotly.express as px\n",
    "import matplotlib.pyplot as plt\n",
    "import subprocess\n",
    "import json\n",
    "\n",
    "project_dir = '/curr/kdmarrett/accelerate/'\n",
    "bin_dir = project_dir + 'bin/'\n",
    "data_dir = project_dir + 'data/'\n",
    "save_fig = True\n",
    "show_fig = True\n",
    "run_radius = False\n",
    "\n",
    "from matplotlib import rc\n",
    "#rc('font',**{'family':'sans-serif','sans-serif':['Helvetica']})\n",
    "## for Palatino and other serif fonts use:\n",
    "rc('font',**{'family':'serif','serif':['Palatino']})\n",
    "rc('text', usetex=True)"
   ]
  },
  {
   "cell_type": "code",
   "execution_count": 14,
   "metadata": {},
   "outputs": [],
   "source": [
    "radius_json = data_dir + 'test_radius.json'"
   ]
  },
  {
   "cell_type": "code",
   "execution_count": null,
   "metadata": {},
   "outputs": [],
   "source": [
    "# run the radius script from scratch\n",
    "if run_radius:\n",
    "    test_cmd = bin_dir + './recut_test --gtest_filter=Radius.* --gtest_output=json:' + radius_json\n",
    "    tlog = 'test.log'\n",
    "    subprocess.run(['touch', tlog])\n",
    "    with open(tlog) as out:\n",
    "        subprocess.run(test_cmd.split(), stdout=out)"
   ]
  },
  {
   "cell_type": "code",
   "execution_count": 15,
   "metadata": {},
   "outputs": [],
   "source": [
    "# load\n",
    "df = pd.read_json(radius_json)"
   ]
  },
  {
   "cell_type": "code",
   "execution_count": 17,
   "metadata": {},
   "outputs": [],
   "source": [
    "test= df['testsuites'][0]['testsuite'][0]\n",
    "recut_keys = [i for i in test.keys() if 'Recut' in i]\n",
    "xy_keys = [i for i in test.keys() if 'XY' in i]"
   ]
  },
  {
   "cell_type": "code",
   "execution_count": 18,
   "metadata": {},
   "outputs": [],
   "source": [
    "recut_errors = [test[i] for i in recut_keys]\n",
    "xy_errors = [test[i] for i in xy_keys]\n",
    "grid_sizes_recut = [int(key.split()[3]) for key in recut_keys]\n",
    "grid_sizes_xy = [int(key.split()[3]) for key in xy_keys]\n",
    "\n",
    "recut_errors = [x for _,x in sorted(zip(grid_sizes_recut,recut_errors))]\n",
    "xy_errors = [x for _,x in sorted(zip(grid_sizes_xy, xy_errors))]\n",
    "grid_sizes = sorted(grid_sizes_recut)\n",
    "assert(grid_sizes == sorted(grid_sizes_xy))\n",
    "radius_sizes = [i/4 for i in grid_sizes]"
   ]
  },
  {
   "cell_type": "code",
   "execution_count": 10,
   "metadata": {},
   "outputs": [
    {
     "name": "stdout",
     "output_type": "stream",
     "text": [
      "/curr/kdmarrett/accelerate/data/Calculate_Radius_and_Prune_Accuracy.png\n"
     ]
    },
    {
     "data": {
      "image/png": "[encoded data removed]",
      "text/plain": [
       "<Figure size 432x288 with 1 Axes>"
      ]
     },
     "metadata": {
      "needs_background": "light"
     },
     "output_type": "display_data"
    }
   ],
   "source": [
    "plt.plot(radius_sizes, recut_errors, 'k-x', label=r'Recut')\n",
    "plt.plot(radius_sizes, xy_errors, 'r-o', label=r'APP2')\n",
    "plt.xlabel(r'Radius size (pixels)')\n",
    "plt.xticks(radius_sizes)\n",
    "plt.ylabel(r'Error rate (\\%)')\n",
    "plt.legend()\n",
    "title = r'Calculate Radius and Prune Accuracy'\n",
    "plt.title(title)\n",
    "fig_output_path = '%s%s.png' % (data_dir, title.replace(' ', '_'))\n",
    "if save_fig:\n",
    "    plt.savefig(fig_output_path)\n",
    "    print(fig_output_path)"
   ]
  },
  {
   "cell_type": "code",
   "execution_count": 19,
   "metadata": {},
   "outputs": [],
   "source": [
    "bench_json = data_dir + 'bench_radius.json'"
   ]
  },
  {
   "cell_type": "code",
   "execution_count": 26,
   "metadata": {},
   "outputs": [
    {
     "data": {
      "text/plain": [
       "[[0.00046603495082826095,\n",
       "  0.002936244206581296,\n",
       "  0.01695476512651186,\n",
       "  0.1250073079019785,\n",
       "  0.972874591127038],\n",
       " [5.144590590442778e-05,\n",
       "  0.00042763615196869187,\n",
       "  0.00940768551081419,\n",
       "  0.2533106841146946,\n",
       "  11.256099244579673],\n",
       " [8.382119083919747e-05,\n",
       "  0.0010651246666215186,\n",
       "  0.025398140773177147,\n",
       "  0.9139463733881712,\n",
       "  43.663533098995686]]"
      ]
     },
     "execution_count": 26,
     "metadata": {},
     "output_type": "execute_result"
    }
   ],
   "source": [
    "data = json.load(open(bench_json))\n",
    "df = data['benchmarks']\n",
    "# only collect it once, the benchmark data is inherently ordered\n",
    "grid_sizes = [int(i['name'].split('/')[-1]) for i in df if 'recut' in i['name']]\n",
    "names = ['recut', 'xy', 'accurate' ]\n",
    "real_times = []\n",
    "time_unit = df[0]['time_unit']\n",
    "time_unit = 's'\n",
    "unit_conversion_factor = 1000\n",
    "for name in names:\n",
    "    real_times.append( [float(i['real_time']) / unit_conversion_factor for i in df if name in i['name']])\n",
    "radius_sizes = [i/4 for i in grid_sizes]\n",
    "real_times"
   ]
  },
  {
   "cell_type": "code",
   "execution_count": 31,
   "metadata": {},
   "outputs": [
    {
     "name": "stdout",
     "output_type": "stream",
     "text": [
      "/curr/kdmarrett/accelerate/data/Calculate_Radius_Performance_Sequential.png\n"
     ]
    },
    {
     "data": {
      "image/png": "[encoded data removed]",
      "text/plain": [
       "<Figure size 432x288 with 1 Axes>"
      ]
     },
     "metadata": {
      "needs_background": "light"
     },
     "output_type": "display_data"
    }
   ],
   "source": [
    "\n",
    "plt.plot(radius_sizes, real_times[0], 'k-x', label=r'Recut $ O(n) $')\n",
    "plt.plot(radius_sizes, real_times[1], 'r-o', label=r'APP2 $ O(nr^3) $')\n",
    "plt.plot(radius_sizes, real_times[2], 'g-d', label=r'Accurate $ O(nr^4) $')\n",
    "#plt.plot(radius_sizes, real_times[2], 'k-', label=r'$O(r)')\n",
    "plt.xlabel(r'Radius size (pixels)')\n",
    "plt.xticks(radius_sizes)\n",
    "plt.ylabel(r'Elapsed time (%s)' % time_unit)\n",
    "plt.legend()\n",
    "# plt.yscale('log', basey=10)\n",
    "#plt.xscale('log', basex=10)\n",
    "title = r'Calculate Radius Performance Sequential'\n",
    "plt.title(title)\n",
    "fig_output_path = '%s%s.png' % (data_dir, title.replace(' ', '_'))\n",
    "if save_fig:\n",
    "    plt.savefig(fig_output_path, dpi=300)\n",
    "    print(fig_output_path)"
   ]
  },
  {
   "cell_type": "code",
   "execution_count": 64,
   "metadata": {},
   "outputs": [
    {
     "name": "stdout",
     "output_type": "stream",
     "text": [
      "None\n"
     ]
    }
   ],
   "source": [
    "bench_cmd = bin_dir + './recut_bench --benchmark_filter=radius.* --benchmark_out_format=json:../data/bench_radius.json'\n",
    "blog = 'bench.log'\n",
    "subprocess.run(['touch', blog])\n",
    "with open(blog) as out:\n",
    "    subprocess.run(bench_cmd.split(), stdout=out)"
   ]
  },
  {
   "cell_type": "code",
   "execution_count": null,
   "metadata": {},
   "outputs": [],
   "source": [
    "fig_output_path = '%s%s.png' % (data_dir, title.replace(' ', '_'))\n",
    "if save_fig:\n",
    "    plt.savefig(fig_output_path)\n",
    "    print(fig_output_path)\n",
    "if show_figs:\n",
    "    plt.show()\n",
    "else:\n",
    "    plt.close()"
   ]
  },
  {
   "cell_type": "markdown",
   "metadata": {},
   "source": [
    "## Fastmarching Performance"
   ]
  },
  {
   "cell_type": "code",
   "execution_count": 2,
   "metadata": {},
   "outputs": [],
   "source": [
    "fm_json = data_dir + 'test_detail.json'\n",
    "# load\n",
    "df = pd.read_json(fm_json)\n",
    "# test= df['testsuites'][0]['testsuite'][0]\n",
    "# recut_keys = [i for i in test.keys() if 'Recut' in i]\n",
    "# xy_keys = [i for i in test.keys() if 'XY' in i]"
   ]
  },
  {
   "cell_type": "code",
   "execution_count": 11,
   "metadata": {},
   "outputs": [],
   "source": [
    "perf_tests =df['testsuites'][8]['testsuite'][11:18]"
   ]
  },
  {
   "cell_type": "code",
   "execution_count": 12,
   "metadata": {},
   "outputs": [
    {
     "data": {
      "text/plain": [
       "[{'classname': 'RecutPipelineTests/RecutPipelineParameterTests',\n",
       "  'name': 'ChecksIfFinalVerticesCorrect/11',\n",
       "  'recut update no IO elapsed (s)': '1',\n",
       "  'result': 'COMPLETED',\n",
       "  'sequential fastmarching elapsed (s)': '0',\n",
       "  'status': 'RUN',\n",
       "  'time': '32.226s',\n",
       "  'timestamp': '2020-05-31T17:31:51Z',\n",
       "  'value_param': '(256, 256, 32, 4, 1, false, true, true)'},\n",
       " {'classname': 'RecutPipelineTests/RecutPipelineParameterTests',\n",
       "  'failures': [{'failure': '/curr/kdmarrett/accelerate/test/recut_test.cpp:1189\\nExpected equality of these values:\\n  sequential_output_tree.size()\\n    Which is: 80528\\n  args.output_tree.size()\\n    Which is: 80511',\n",
       "    'type': ''}],\n",
       "  'name': 'ChecksIfFinalVerticesCorrect/12',\n",
       "  'recut update no IO elapsed (s)': '0',\n",
       "  'result': 'COMPLETED',\n",
       "  'sequential fastmarching elapsed (s)': '0',\n",
       "  'status': 'RUN',\n",
       "  'time': '31.739s',\n",
       "  'timestamp': '2020-05-31T17:32:23Z',\n",
       "  'value_param': '(256, 256, 128, 4, 1, false, true, true)'},\n",
       " {'classname': 'RecutPipelineTests/RecutPipelineParameterTests',\n",
       "  'name': 'ChecksIfFinalVerticesCorrect/13',\n",
       "  'recut update no IO elapsed (s)': '0',\n",
       "  'result': 'COMPLETED',\n",
       "  'sequential fastmarching elapsed (s)': '1',\n",
       "  'status': 'RUN',\n",
       "  'time': '31.788s',\n",
       "  'timestamp': '2020-05-31T17:32:55Z',\n",
       "  'value_param': '(256, 256, 256, 4, 1, false, true, true)'},\n",
       " {'classname': 'RecutPipelineTests/RecutPipelineParameterTests',\n",
       "  'name': 'ChecksIfFinalVerticesCorrect/14',\n",
       "  'recut update no IO elapsed (s)': '4',\n",
       "  'result': 'COMPLETED',\n",
       "  'sequential fastmarching elapsed (s)': '4',\n",
       "  'status': 'RUN',\n",
       "  'time': '70.421s',\n",
       "  'timestamp': '2020-05-31T17:33:27Z',\n",
       "  'value_param': '(512, 512, 32, 4, 1, false, true, true)'},\n",
       " {'classname': 'RecutPipelineTests/RecutPipelineParameterTests',\n",
       "  'failures': [{'failure': '/curr/kdmarrett/accelerate/test/recut_test.cpp:1189\\nExpected equality of these values:\\n  sequential_output_tree.size()\\n    Which is: 93692\\n  args.output_tree.size()\\n    Which is: 93675',\n",
       "    'type': ''}],\n",
       "  'name': 'ChecksIfFinalVerticesCorrect/15',\n",
       "  'recut update no IO elapsed (s)': '0',\n",
       "  'result': 'COMPLETED',\n",
       "  'sequential fastmarching elapsed (s)': '4',\n",
       "  'status': 'RUN',\n",
       "  'time': '63.801s',\n",
       "  'timestamp': '2020-05-31T17:34:37Z',\n",
       "  'value_param': '(512, 512, 128, 4, 1, false, true, true)'},\n",
       " {'classname': 'RecutPipelineTests/RecutPipelineParameterTests',\n",
       "  'name': 'ChecksIfFinalVerticesCorrect/16',\n",
       "  'recut update no IO elapsed (s)': '0',\n",
       "  'result': 'COMPLETED',\n",
       "  'sequential fastmarching elapsed (s)': '4',\n",
       "  'status': 'RUN',\n",
       "  'time': '62.505s',\n",
       "  'timestamp': '2020-05-31T17:35:41Z',\n",
       "  'value_param': '(512, 512, 512, 4, 1, false, true, true)'},\n",
       " {'classname': 'RecutPipelineTests/RecutPipelineParameterTests',\n",
       "  'failures': [{'failure': '/curr/kdmarrett/accelerate/test/recut_test.cpp:1189\\nExpected equality of these values:\\n  sequential_output_tree.size()\\n    Which is: 2619005\\n  args.output_tree.size()\\n    Which is: 2456320',\n",
       "    'type': ''}],\n",
       "  'name': 'ChecksIfFinalVerticesCorrect/17',\n",
       "  'recut update no IO elapsed (s)': '22',\n",
       "  'result': 'COMPLETED',\n",
       "  'sequential fastmarching elapsed (s)': '47',\n",
       "  'status': 'RUN',\n",
       "  'time': '214.903s',\n",
       "  'timestamp': '2020-05-31T17:36:44Z',\n",
       "  'value_param': '(1024, 1024, 128, 4, 1, false, true, true)'}]"
      ]
     },
     "execution_count": 12,
     "metadata": {},
     "output_type": "execute_result"
    }
   ],
   "source": [
    "perf_tests"
   ]
  },
  {
   "cell_type": "code",
   "execution_count": null,
   "metadata": {},
   "outputs": [],
   "source": []
  }
 ],
 "metadata": {
  "kernelspec": {
   "display_name": "Python 3",
   "language": "python",
   "name": "python3"
  },
  "language_info": {
   "codemirror_mode": {
    "name": "ipython",
    "version": 3
   },
   "file_extension": ".py",
   "mimetype": "text/x-python",
   "name": "python",
   "nbconvert_exporter": "python",
   "pygments_lexer": "ipython3",
   "version": "3.5.2"
  }
 },
 "nbformat": 4,
 "nbformat_minor": 4
}
